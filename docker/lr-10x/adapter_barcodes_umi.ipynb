{
 "cells": [
  {
   "cell_type": "code",
   "execution_count": 1,
   "metadata": {},
   "outputs": [],
   "source": [
    "import csv\n",
    "from ipysankeywidget import SankeyWidget\n",
    "from ipywidgets import Layout\n",
    "import locale\n",
    "import matplotlib.pyplot as plt"
   ]
  },
  {
   "cell_type": "markdown",
   "metadata": {},
   "source": [
    "## Concatenate rg_stats"
   ]
  },
  {
   "cell_type": "code",
   "execution_count": null,
   "metadata": {},
   "outputs": [],
   "source": [
    "def concatenate_rg_stats(filenames, output_filename):\n",
    "    first_filename = True\n",
    "    sample_i = 0\n",
    "    with open(output_filename, 'w') as output_file:\n",
    "        for filename in filenames: \n",
    "            with open(filename) as file:\n",
    "                if not first_filename:\n",
    "                    next(file)\n",
    "                for line in file:\n",
    "                    if line[:3] == 'all':\n",
    "                        line.replace('all', 'sample_{}'.format(sample_i), 1)\n",
    "                        sample_i += 1\n",
    "                    output_filename.write(line)"
   ]
  },
  {
   "cell_type": "code",
   "execution_count": 108,
   "metadata": {},
   "outputs": [],
   "source": [
    "csv_data = dict()\n",
    "filename = 'sample_stats_allbarcodes.tsv'\n",
    "filename = 'sample_stats2.tsv'\n",
    "filename = '/Users/mgatzen/data/longreads/lrma/tools/10x_tool/results/ont/bam1_rg_stats.tsv'\n",
    "# filename = '/Users/mgatzen/data/longreads/lrma/tools/10x_tool/results/pacbio/SM-HLD5O_rg_stats.tsv'\n",
    "# filename = 'results/pacbio/SM-HLD5O_rg_stats.tsv'\n",
    "#with open('chr_stats.tsv') as csv_file:\n",
    "with open(filename) as csv_file:\n",
    "    reader = csv.DictReader(csv_file, delimiter='\\t')\n",
    "    for line in reader:\n",
    "        csv_data[line['rg']] = line"
   ]
  },
  {
   "cell_type": "code",
   "execution_count": 109,
   "metadata": {},
   "outputs": [
    {
     "name": "stdout",
     "output_type": "stream",
     "text": [
      "dict_keys(['all', 'FAL25331.GA50000.2-14CC82ED', 'FAL25331.GA50000.2-6DC5B7AE', 'FAL25331.GA50000.2-1182CF8B', 'FAL25331.GA50000.1-185E3362', 'FAL25331.GA50000.1-6423B87B', 'FAL25331.GA50000.1-925205', 'FAL25331.GA50000.1-70D171C5', 'FAL25331.GA50000.1-5EA7E69A', 'FAL25331.GA50000.2-75DA4E35', 'FAL25331.GA50000.2-198B96FA', 'FAL25331.GA50000.2-7897DFA6', 'FAL25331.GA50000.2-623D1E1B', 'FAL25331.GA50000.2-335156BC', 'FAL25331.GA50000.2-DF21DCE', 'FAL25331.GA50000.2-58FBCA21', 'FAL25331.GA50000.2-68133E98', 'FAL25331.GA50000.1-822FBD8', 'FAL25331.GA50000.1-39894E63', 'FAL25331.GA50000.2-38FB2E00', 'FAL25331.GA50000.2-4A34215A', 'FAL25331.GA50000.2-2F08345E', 'FAL25331.GA50000.2-775E6246', 'FAL25331.GA50000.2-EE28372', 'FAL25331.GA50000.2-2A253A03', 'FAL25331.GA50000.2-602DF8AB', 'FAL25331.GA50000.2-3F9F0391', 'FAL25331.GA50000.1-12EBC98', 'FAL25331.GA50000.2-74BF9AAD', 'FAL25331.GA50000.2-1D183D20', 'FAL25331.GA50000.1-2ABBE2EB', 'FAL25331.GA50000.1-4B89EB6A', 'FAL25331.GA50000.2-588E7294', 'FAL25331.GA50000.1-7353BB44', 'FAL25331.GA50000.1', 'FAL25331.GA50000.1-77A02190', 'FAL25331.GA50000.1-3C2D0C06', 'FAL25331.GA50000.1-3827B3DD', 'FAL25331.GA50000.2-1D0B015A', 'FAL25331.GA50000.2-3B9CD793', 'FAL25331.GA50000.1-2D3D6BE8', 'FAL25331.GA50000.2-540512F0', 'FAL25331.GA50000.1-2536AB11', 'FAL25331.GA50000.2-411A4715', 'FAL25331.GA50000.1-2168C712', 'FAL25331.GA50000.1-12E144D2', 'FAL25331.GA50000.2-55C6069B', 'FAL25331.GA50000.2-6835A3E9', 'FAL25331.GA50000.2-E275B04', 'FAL25331.GA50000.1-416481B', 'FAL25331.GA50000.1-763972A1', 'FAL25331.GA50000.1-2C9E41BC', 'FAL25331.GA50000.1-C382BCD', 'FAL25331.GA50000.2-32E37A8F', 'FAL25331.GA50000.1-30ADA46', 'FAL25331.GA50000.2-1E99F7A5', 'FAL25331.GA50000.2-497912DF', 'FAL25331.GA50000.2-6948E93F', 'FAL25331.GA50000.2-2804A6BB', 'FAL25331.GA50000.2-4EF43996', 'FAL25331.GA50000.1-56D767B0', 'FAL25331.GA50000.1-34CD0B50', 'FAL25331.GA50000.1-49052E48', 'FAL25331.GA50000.2-18DB0614', 'FAL25331.GA50000.2-14B39343', 'FAL25331.GA50000.2-7CCE0C53', 'FAL25331.GA50000.2-53C79D1D', 'FAL25331.GA50000.1-22A2B2A6', 'FAL25331.GA50000.1-701E328F', 'FAL25331.GA50000.1-78AD66A0', 'FAL25331.GA50000.1-788623C2', 'FAL25331.GA50000.1-786848FA', 'FAL25331.GA50000.1-5370B0A1', 'FAL25331.GA50000.1-4042D2BF', 'FAL25331.GA50000.2-3CDAE370', 'FAL25331.GA50000.2-8BD8819', 'FAL25331.GA50000.2-4A304D3A', 'FAL25331.GA50000.2-458BB72E', 'FAL25331.GA50000.2-50E317EC', 'FAL25331.GA50000.2-39A44F07', 'FAL25331.GA50000.2-73FBE73E', 'FAL25331.GA50000.2-98267D5', 'FAL25331.GA50000.1-572EE6B5', 'FAL25331.GA50000.2-5458BFEB', 'FAL25331.GA50000.2-38D257CE', 'FAL25331.GA50000.2-260FABFE', 'FAL25331.GA50000.1-3C455E1A', 'FAL25331.GA50000.1-18906F5', 'FAL25331.GA50000.2-6A471E4', 'FAL25331.GA50000.1-534BFFBE', 'FAL25331.GA50000.1-1902F232', 'FAL25331.GA50000.2-76603427', 'FAL25331.GA50000.2-31C6CB8D', 'FAL25331.GA50000.2-42CC03C8', 'FAL25331.GA50000.1-61BAC11E', 'FAL25331.GA50000.2-3C3DE60D', 'FAL25331.GA50000.2-68746F08', 'FAL25331.GA50000.2-34227F2F', 'FAL25331.GA50000.2-2BEE957D', 'FAL25331.GA50000.2-209AD6FD', 'FAL25331.GA50000.2-63AA2FC5', 'FAL25331.GA50000.1-4026C5B2', 'FAL25331.GA50000.2-4D65CFF5', 'FAL25331.GA50000.2-4DF43B65', 'FAL25331.GA50000.1-63F1303C', 'FAL25331.GA50000.2-2D92CBA7', 'FAL25331.GA50000.1-55303343', 'FAL25331.GA50000.2-3B7837A2', 'FAL25331.GA50000.1-7E7CBCD1', 'FAL25331.GA50000.2-1A99EE1F', 'FAL25331.GA50000.1-167A96DB', 'FAL25331.GA50000.2-4DF2EA42', 'FAL25331.GA50000.2-53FBFAB5', 'FAL25331.GA50000.1-8B65623', 'FAL25331.GA50000.2-FBD6D10', 'FAL25331.GA50000.1-ACFCD1F', 'FAL25331.GA50000.2-2A2EA4EC', 'FAL25331.GA50000.2-31C8298E', 'FAL25331.GA50000.2-530E9282', 'FAL25331.GA50000.2-7FCA4DB2', 'FAL25331.GA50000.2-6092A65A', 'FAL25331.GA50000.2-53BA1822', 'FAL25331.GA50000.2-1D6B1B85', 'FAL25331.GA50000.2-67CC5904', 'FAL25331.GA50000.2-611BDE3E', 'FAL25331.GA50000.2-3DCADA2', 'FAL25331.GA50000.1-1B54C76A', 'FAL25331.GA50000.2-FAA59C4', 'FAL25331.GA50000.1-3FC3479E', 'FAL25331.GA50000.1-2765B0B3', 'FAL25331.GA50000.2-36322615', 'FAL25331.GA50000.2-23A116C0', 'FAL25331.GA50000.2-37100E4F', 'FAL25331.GA50000.2-668D7DB3', 'FAL25331.GA50000.1-113B4F53', 'FAL25331.GA50000.2', 'FAL25331.GA50000.1-5CD20789', 'FAL25331.GA50000.2-3F25E86A', 'FAL25331.GA50000.1-32C0558F', 'FAL25331.GA50000.2-55E8098E', 'FAL25331.GA50000.2-55E001E4', 'FAL25331.GA50000.2-77E2F40', 'FAL25331.GA50000.1-5074B647', 'FAL25331.GA50000.2-1CD522DB', 'FAL25331.GA50000.2-70516973', 'FAL25331.GA50000.2-4B559A15', 'FAL25331.GA50000.1-70AF3B2D', 'FAL25331.GA50000.2-6F0754F8', 'FAL25331.GA50000.2-10C27AF2', 'FAL25331.GA50000.2-22B95F48', 'FAL25331.GA50000.2-17DE6A19', 'FAL25331.GA50000.2-5AA675D2', 'FAL25331.GA50000.2-B6E64E3', 'FAL25331.GA50000.2-DB8C26', 'FAL25331.GA50000.1-7DB623AD', 'FAL25331.GA50000.1-6A13C5F2', 'FAL25331.GA50000.2-2BA3F51', 'FAL25331.GA50000.1-710E8E9E', 'FAL25331.GA50000.2-6075ED62', 'FAL25331.GA50000.1-148303A3', 'FAL25331.GA50000.1-C673F31', 'FAL25331.GA50000.2-38983D55', 'FAL25331.GA50000.1-1093D01', 'FAL25331.GA50000.2-59F7F0B9', 'FAL25331.GA50000.2-51FA440B', 'FAL25331.GA50000.2-7351B115', 'FAL25331.GA50000.2-208F2CBF', 'FAL25331.GA50000.2-2F163445', 'FAL25331.GA50000.1-247ED08C', 'FAL25331.GA50000.2-747DF832', 'FAL25331.GA50000.2-55E252B1', 'FAL25331.GA50000.2-46D70372', 'FAL25331.GA50000.2-6ED2EE43', 'FAL25331.GA50000.2-56E17484', 'FAL25331.GA50000.1-A050755', 'FAL25331.GA50000.2-1108DA4', 'FAL25331.GA50000.2-74BD64D9', 'FAL25331.GA50000.2-2BB75AA3', 'FAL25331.GA50000.2-4FFAF9F0', 'FAL25331.GA50000.2-1FC7BCA0', 'FAL25331.GA50000.1-58E55B71', 'FAL25331.GA50000.2-2A691237', 'FAL25331.GA50000.2-31764755', 'FAL25331.GA50000.1-355F76CB', 'FAL25331.GA50000.2-EB88DAE', 'FAL25331.GA50000.2-560121BA', 'FAL25331.GA50000.2-687F87A0', 'FAL25331.GA50000.1-14535B25', 'FAL25331.GA50000.1-608F14EC', 'FAL25331.GA50000.1-3439B0E6', 'FAL25331.GA50000.1-8B0AAFB', 'FAL25331.GA50000.1-42446ED2', 'FAL25331.GA50000.1-285ADBE', 'FAL25331.GA50000.2-660429CF', 'FAL25331.GA50000.2-1C3D468D', 'FAL25331.GA50000.1-16672A1D', 'FAL25331.GA50000.2-798ABE1C', 'FAL25331.GA50000.2-186599CB', 'FAL25331.GA50000.2-55A7588B', 'FAL25331.GA50000.1-136D0F23', 'FAL25331.GA50000.2-24FA74B', 'FAL25331.GA50000.2-200D9A', 'FAL25331.GA50000.2-7B3A8C31', 'FAL25331.GA50000.2-21338430', 'FAL25331.GA50000.2-7480A29', 'FAL25331.GA50000.2-2C78416B', 'FAL25331.GA50000.2-231DE2A5', 'FAL25331.GA50000.2-5F25D495', 'FAL25331.GA50000.2-3C29064F', 'FAL25331.GA50000.1-7E9B0FB2', 'FAL25331.GA50000.2-115A9D5C', 'FAL25331.GA50000.2-6FA32082', 'FAL25331.GA50000.2-3AE224D0', 'FAL25331.GA50000.2-30E339B7', 'FAL25331.GA50000.2-3FF4808A', 'FAL25331.GA50000.1-712BC752', 'FAL25331.GA50000.1-7238AF1D', 'FAL25331.GA50000.2-70D2FFB', 'FAL25331.GA50000.2-6F1955D8', 'FAL25331.GA50000.2-3B690DE7', 'FAL25331.GA50000.2-494F1C04', 'FAL25331.GA50000.2-79F56B1', 'FAL25331.GA50000.2-2F5DEA9F', 'FAL25331.GA50000.1-1B273081', 'FAL25331.GA50000.2-6CA8A4C1', 'FAL25331.GA50000.2-1C9B0A60', 'FAL25331.GA50000.1-4D43A263', 'FAL25331.GA50000.2-67E3A303', 'FAL25331.GA50000.2-7ED42196', 'FAL25331.GA50000.2-75955E56', 'FAL25331.GA50000.1-2ED94706', 'FAL25331.GA50000.2-2B1D135B', 'FAL25331.GA50000.1-31489701', 'FAL25331.GA50000.2-51B118EC', 'FAL25331.GA50000.2-36C8CB43', 'FAL25331.GA50000.2-598553BF', 'FAL25331.GA50000.1-5ECE8112', 'FAL25331.GA50000.2-41B26E2C', 'FAL25331.GA50000.1-4C2925A6', 'FAL25331.GA50000.2-5B7F592E', 'FAL25331.GA50000.2-4750C3BF', 'FAL25331.GA50000.2-3C50B46B', 'FAL25331.GA50000.2-483ADC74', 'FAL25331.GA50000.1-699A7B98', 'FAL25331.GA50000.2-716C8974', 'FAL25331.GA50000.2-22CE11CA', 'FAL25331.GA50000.2-5210C488', 'FAL25331.GA50000.1-700E78AD', 'FAL25331.GA50000.1-2F008DC', 'FAL25331.GA50000.1-78006944', 'FAL25331.GA50000.2-404BE066', 'FAL25331.GA50000.2-42E4D116', 'FAL25331.GA50000.2-4C3F6F40', 'FAL25331.GA50000.1-5941C412', 'FAL25331.GA50000.2-124DB85', 'FAL25331.GA50000.1-330B4F64', 'FAL25331.GA50000.2-54265717', 'FAL25331.GA50000.2-6B626CCB', 'FAL25331.GA50000.2-59D050BA', 'FAL25331.GA50000.1-2D023A9D', 'FAL25331.GA50000.1-143C7A41', 'FAL25331.GA50000.1-71B014E1', 'FAL25331.GA50000.2-380F9B49', 'FAL25331.GA50000.2-3042D6CF', 'FAL25331.GA50000.1-1FAFFE6D', 'FAL25331.GA50000.1-30F10FB1', 'FAL25331.GA50000.1-22833D03', 'FAL25331.GA50000.2-4D1CAEDC', 'FAL25331.GA50000.2-733AEECD', 'FAL25331.GA50000.2-163E59F0', 'FAL25331.GA50000.2-1D6C32AA', 'FAL25331.GA50000.2-26A75683', 'FAL25331.GA50000.1-6FA781BE', 'FAL25331.GA50000.1-BC602D1', 'FAL25331.GA50000.1-3ED9549B', 'FAL25331.GA50000.1-3F2F1CEF', 'FAL25331.GA50000.1-1E289620', 'FAL25331.GA50000.2-4407C886', 'FAL25331.GA50000.2-6E91826', 'FAL25331.GA50000.2-E224958', 'FAL25331.GA50000.2-47EF5771', 'FAL25331.GA50000.2-75A28753', 'FAL25331.GA50000.2-4ECCDDF0', 'FAL25331.GA50000.2-4D33A752', 'FAL25331.GA50000.2-4CF90096', 'FAL25331.GA50000.2-1E1D18C6', 'FAL25331.GA50000.2-2F3EAC38', 'FAL25331.GA50000.2-25313A8A', 'FAL25331.GA50000.2-2CE121D2', 'FAL25331.GA50000.2-A5D0FEC', 'FAL25331.GA50000.2-3676085F', 'FAL25331.GA50000.2-1252AA7B', 'FAL25331.GA50000.2-2B9ED721', 'FAL25331.GA50000.2-562D209E', 'FAL25331.GA50000.2-7C970CBE', 'FAL25331.GA50000.2-4BAAEE5C', 'FAL25331.GA50000.2-6792E0CF', 'FAL25331.GA50000.1-2935E478', 'FAL25331.GA50000.2-4F57E36F', 'FAL25331.GA50000.1-3FF2B837', 'FAL25331.GA50000.2-1B0F08E5'])\n"
     ]
    }
   ],
   "source": [
    "print(csv_data.keys())"
   ]
  },
  {
   "cell_type": "code",
   "execution_count": 110,
   "metadata": {},
   "outputs": [],
   "source": [
    "data = csv_data['all']"
   ]
  },
  {
   "cell_type": "code",
   "execution_count": 111,
   "metadata": {},
   "outputs": [],
   "source": [
    "links = [\n",
    "    {'source': 'All reads', 'target': 'Adapter found', 'value': data['adapter_found']},\n",
    "    {'source': 'All reads', 'target': 'Adapter not found', 'value': data['adapter_not_found']},\n",
    "    {'source': 'All reads', 'target': 'Adapter in both ends', 'value': data['adapter_in_both_ends']},\n",
    "    {'source': 'All reads', 'target': 'Reverse adapter', 'value': data['reverse_adapter_alignment']},\n",
    "    {'source': 'All reads', 'target': 'Multiple adapters in end', 'value': data['multiple_adapters_in_end']},\n",
    "    {'source': 'Adapter found', 'target': 'Barcode found', 'value': data['barcode_found']},\n",
    "    {'source': 'Adapter found', 'target': 'Barcode not found', 'value': data['barcode_not_found']},\n",
    "    {'source': 'Barcode found', 'target': 'UMI present', 'value': data['umi_found']},\n",
    "    {'source': 'Barcode found', 'target': 'Read end too short', 'value': data['sequence_too_short_for_umi']},\n",
    "    {'source': 'UMI present', 'target': 'Poly-T found', 'value': data['poly_t_found']},\n",
    "    {'source': 'UMI present', 'target': 'Poly-T not found', 'value': data['poly_t_not_found']},\n",
    "    {'source': 'UMI present', 'target': 'Read end too short', 'value': data['sequence_too_short_for_poly_t']},\n",
    "]\n",
    "links_percentage = [\n",
    "    {'source': 'All reads', 'target': 'Adapter found', 'value': int(data['adapter_found']) / int(data['reads_seen']) * 100},\n",
    "    {'source': 'All reads', 'target': 'Adapter not found', 'value': int(data['adapter_not_found']) / int(data['reads_seen']) * 100},\n",
    "    {'source': 'All reads', 'target': 'Adapter in both ends', 'value': int(data['adapter_in_both_ends']) / int(data['reads_seen']) * 100},\n",
    "    {'source': 'All reads', 'target': 'Reverse adapter', 'value': int(data['reverse_adapter_alignment']) / int(data['reads_seen']) * 100},\n",
    "    {'source': 'All reads', 'target': 'Multiple adapters in end', 'value': int(data['multiple_adapters_in_end']) / int(data['reads_seen']) * 100},\n",
    "    {'source': 'Adapter found', 'target': 'Barcode found', 'value': int(data['barcode_found']) / int(data['adapter_found']) * 100},\n",
    "    {'source': 'Adapter found', 'target': 'Barcode not found', 'value': int(data['barcode_not_found']) / int(data['adapter_found']) * 100},\n",
    "    {'source': 'Barcode found', 'target': 'UMI present', 'value': int(data['umi_found']) / int(data['barcode_found']) * 100},\n",
    "    {'source': 'Barcode found', 'target': 'Read end too short', 'value': int(data['sequence_too_short_for_umi']) / int(data['barcode_found']) * 100},\n",
    "    {'source': 'UMI present', 'target': 'Poly-T found', 'value': int(data['poly_t_found']) / int(data['umi_found']) * 100},\n",
    "    {'source': 'UMI present', 'target': 'Poly-T not found', 'value': int(data['poly_t_not_found']) / int(data['umi_found']) * 100},\n",
    "    {'source': 'UMI present', 'target': 'Read end too short', 'value': int(data['sequence_too_short_for_poly_t']) / int(data['umi_found']) * 100},\n",
    "]\n",
    "\n",
    "order = [\n",
    "    ['All reads'],\n",
    "    ['Adapter found', 'Adapter not found', 'Adapter in both ends', 'Reverse adapter', 'Multiple adapters in end'],\n",
    "    ['Barcode found', 'Barcode not found'],\n",
    "    ['UMI present'],\n",
    "    ['Poly-T found', 'Poly-T not found', 'Read end too short'],\n",
    "]\n",
    "rank_sets = [\n",
    "    { 'type': 'same', 'nodes': ['Poly-T found', 'Poly-T not found', 'Read end too short'] }\n",
    "]"
   ]
  },
  {
   "cell_type": "code",
   "execution_count": 112,
   "metadata": {},
   "outputs": [],
   "source": [
    "links_reverse = [\n",
    "    {'source': 'All reads', 'target': 'Adapter found', 'value': data['adapter_found']},\n",
    "    {'source': 'All reads', 'target': 'Adapter not found', 'value': data['adapter_not_found']},\n",
    "    {'source': 'All reads', 'target': 'Adapter in both ends', 'value': data['adapter_in_both_ends']},\n",
    "    {'source': 'All reads', 'target': 'Reverse adapter', 'value': data['reverse_adapter_alignment']},\n",
    "    {'source': 'All reads', 'target': 'Multiple adapters in end', 'value': data['multiple_adapters_in_end']},\n",
    "    {'source': 'Adapter found', 'target': 'TSO found', 'value': int(data['reverse_reverse_adapter_in_forward_found']) + int(data['forward_reverse_adapter_in_reverse_found'])},\n",
    "    {'source': 'Adapter found', 'target': 'TSO not found', 'value': int(data['adapter_found']) - int(data['reverse_reverse_adapter_in_forward_found']) - int(data['forward_reverse_adapter_in_reverse_found'])},\n",
    "    {'source': 'TSO found', 'target': 'Adapter found.', 'value': int(data['reverse_reverse_adapter_in_forward_found']) + int(data['forward_reverse_adapter_in_reverse_found'])},\n",
    "    {'source': 'TSO not found', 'target': 'Adapter found.', 'value': int(data['adapter_found']) - int(data['reverse_reverse_adapter_in_forward_found']) - int(data['forward_reverse_adapter_in_reverse_found'])},\n",
    "    {'source': 'Adapter found.', 'target': '10x & Illumina whitelist', 'value': data['barcode_in_10x_and_illumina_whitelist']},\n",
    "    {'source': 'Adapter found.', 'target': '10x whitelist', 'value': data['barcode_in_10x_whitelist']},\n",
    "    {'source': 'Adapter found.', 'target': 'Illumina whitelist', 'value': data['barcode_in_illumina_whitelist']},\n",
    "    {'source': 'Adapter found.', 'target': 'No whitelist', 'value': data['barcode_not_in_any_whitelist']},\n",
    "    {'source': '10x & Illumina whitelist', 'target': 'Adapter found..', 'value': data['barcode_in_10x_and_illumina_whitelist']},\n",
    "    {'source': '10x whitelist', 'target': 'Adapter found..', 'value': data['barcode_in_10x_whitelist']},\n",
    "    {'source': 'Illumina whitelist', 'target': 'Adapter found..', 'value': data['barcode_in_illumina_whitelist']},\n",
    "    {'source': 'No whitelist', 'target': 'Adapter found..', 'value': data['barcode_not_in_any_whitelist']},\n",
    "    {'source': 'Adapter found..', 'target': 'UMI present', 'value': data['umi_found']},\n",
    "    {'source': 'Adapter found..', 'target': 'Read end too short', 'value': data['sequence_too_short_for_umi']},\n",
    "    {'source': 'Adapter not found', 'target': 'No TSO found', 'value': int(data['adapter_not_found']) - int(data['forward_reverse_adapter_in_not_found']) - int(data['reverse_reverse_adapter_in_not_found']) - int(data['both_reverse_adapters_in_not_found'])},\n",
    "    {'source': 'Adapter not found', 'target': 'One TSO found', 'value': int(data['forward_reverse_adapter_in_not_found']) + int(data['reverse_reverse_adapter_in_not_found'])},\n",
    "    {'source': 'Adapter not found', 'target': 'Two TSOs found', 'value': data['both_reverse_adapters_in_not_found']},\n",
    "    {'source': 'UMI present', 'target': 'Poly-T found', 'value': data['poly_t_found']},\n",
    "    {'source': 'UMI present', 'target': 'Poly-T not found', 'value': data['poly_t_not_found']},\n",
    "    {'source': 'UMI present', 'target': 'Read end too short', 'value': data['sequence_too_short_for_poly_t']},\n",
    "]\n",
    "\n",
    "\n",
    "\n",
    "order_reverse = [\n",
    "    ['All reads'],\n",
    "    ['Adapter found', 'Adapter not found', 'Adapter in both ends', 'Reverse adapter', 'Multiple adapters in end'],\n",
    "    ['Reverse adapter found', 'Reverse adapter not found', 'No reverse adapter found', 'One reverse adapter found', 'Two reverse adapters found'],\n",
    "    ['Adapter found.'],\n",
    "    ['Barcode found', 'Barcode not found'],\n",
    "    ['UMI present'],\n",
    "    ['Poly-T found', 'Poly-T not found', 'Read end too short'],\n",
    "]\n",
    "rank_sets_reverse = [\n",
    "    #{ 'type': 'same', 'nodes': ['Poly-T found', 'Poly-T not found', 'Read end too short'] },\n",
    "    { 'type': 'same', 'nodes': ['No reverse adapter found', 'One reverse adapter found', 'Two reverse adapters found', 'Adapter found.'] },\n",
    "]"
   ]
  },
  {
   "cell_type": "code",
   "execution_count": null,
   "metadata": {},
   "outputs": [],
   "source": []
  },
  {
   "cell_type": "code",
   "execution_count": null,
   "metadata": {},
   "outputs": [],
   "source": []
  },
  {
   "cell_type": "code",
   "execution_count": 113,
   "metadata": {},
   "outputs": [
    {
     "name": "stdout",
     "output_type": "stream",
     "text": [
      "All reads [1320869] Adapter found\n",
      "All reads [705095] Adapter not found\n",
      "All reads [3051] Adapter in both ends\n",
      "All reads [5652] Reverse adapter\n",
      "All reads [91] Multiple adapters in end\n",
      "Adapter found [1170830] TSO found\n",
      "Adapter found [150039] TSO not found\n",
      "TSO found [1170830] Adapter found.\n",
      "TSO not found [150039] Adapter found.\n",
      "Adapter found. [989665] 10x & Illumina whitelist\n",
      "Adapter found. [108978] 10x whitelist\n",
      "Adapter found. [0] Illumina whitelist\n",
      "Adapter found. [222226] No whitelist\n",
      "10x & Illumina whitelist [989665] Adapter found..\n",
      "10x whitelist [108978] Adapter found..\n",
      "Illumina whitelist [0] Adapter found..\n",
      "No whitelist [222226] Adapter found..\n",
      "Adapter found.. [1320869] UMI present\n",
      "Adapter found.. [0] Read end too short\n",
      "Adapter not found [148750] No TSO found\n",
      "Adapter not found [552243] One TSO found\n",
      "Adapter not found [4102] Two TSOs found\n",
      "UMI present [1213723] Poly-T found\n",
      "UMI present [106922] Poly-T not found\n",
      "UMI present [224] Read end too short\n"
     ]
    }
   ],
   "source": [
    "for link in links_reverse:\n",
    "    print('{} [{}] {}'.format(link['source'], link['value'], link['target']))"
   ]
  },
  {
   "cell_type": "markdown",
   "metadata": {},
   "source": [
    "\n",
    "```\n",
    "\n",
    ":Adapter found #0c0 <<\n",
    ":TSO found #0c0 <<\n",
    ":TSO not found #0c0 <<\n",
    ":10x & Illumina whitelist #0c0 <<\n",
    ":10x whitelist #0c0 <<\n",
    ":No whitelist #0c0 <<\n",
    ":Adapter found. #0c0 <<\n",
    ":Adapter found.. #0c0 <<\n",
    ":Barcode found #0c0 <<\n",
    ":Barcode not found #c00 <<\n",
    ":UMI present #0c0 <<\n",
    ":Poly-T found #0c0 <<\n",
    ":Poly-T not found #c00 <<\n",
    ":Read end too short #c00 <<\n",
    ":Adapter not found #cc0 <<\n",
    ":Two reverse adapters found #cc0 <<\n",
    ":One reverse adapter found #c00 <<\n",
    ":No reverse adapter found #c00 <<\n",
    ":Adapter in both ends #c00 <<\n",
    ":Wrong adapter orientation #c00 <<\n",
    ":Multiple adapters #c00 <<\n",
    ":No TSO found #c00 <<\n",
    ":One TSO found #c00 <<\n",
    ":Two TSOs found #cc0 <<\n",
    ":All reads #ccc <<\n",
    "```"
   ]
  },
  {
   "cell_type": "markdown",
   "metadata": {},
   "source": [
    "## All info"
   ]
  },
  {
   "cell_type": "code",
   "execution_count": 107,
   "metadata": {
    "scrolled": true
   },
   "outputs": [
    {
     "name": "stdout",
     "output_type": "stream",
     "text": [
      "' results/ont/bam1_sw_rg_stats.tsv\n",
      "All reads [1953035] Adapter found #6e6\n",
      "All reads [79423] Adapter not found #ee6\n",
      "All reads [2300] Adapter in both ends #e66\n",
      "All reads [0] Reverse adapter #e66\n",
      "All reads [0] Multiple adapters in end #e66\n",
      "Adapter found [1901051] TSO found #6e6\n",
      "Adapter found [51984] TSO not found #6e6\n",
      "TSO found [1901051] Adapter found. #6e6\n",
      "TSO not found [51984] Adapter found. #6e6\n",
      "Adapter found. [1418346] 10x & Illumina whitelist #6e6\n",
      "Adapter found. [158087] 10x whitelist #ee6\n",
      "Adapter found. [0] Illumina whitelist #6e6\n",
      "Adapter found. [376602] No whitelist #e66\n",
      "10x & Illumina whitelist [1418346] Adapter found.. #6e6\n",
      "10x whitelist [158087] Adapter found.. #ee6\n",
      "Illumina whitelist [0] Adapter found.. #e66\n",
      "No whitelist [376602] Adapter found.. #e66\n",
      "Adapter found.. [0] Read end too short #e66\n",
      "Adapter not found [25675] No TSO found #e66\n",
      "Adapter not found [51676] One TSO found #e66\n",
      "Adapter not found [2072] Two TSOs found #ee6\n",
      "Adapter found.. [1640602] Corrected barcodes #6e6\n",
      "Adapter found.. [312433] Filtered barcodes #e66\n",
      "Adapter found.. [2148] Read end too short #e66\n",
      "\n",
      ":Adapter found #0c0 <<\n",
      ":TSO found #0c0 <<\n",
      ":TSO not found #0c0 <<\n",
      ":10x & Illumina whitelist #0c0 <<\n",
      ":10x whitelist #cc0 <<\n",
      ":No whitelist #c00 <<\n",
      ":10x whitelist #cc0 >>\n",
      ":No whitelist #c00 >>\n",
      ":Adapter found. #0c0 <<\n",
      ":Adapter found.. #0c0 <<\n",
      ":Corrected barcodes #0c0 <<\n",
      ":Filtered barcodes #c00 <<\n",
      ":Read end too short #c00 <<\n",
      ":Adapter not found #cc0 <<\n",
      ":Two TSOs found #cc0 <<\n",
      ":One TSO found #c00 <<\n",
      ":No TSO found #c00 <<\n",
      ":Adapter in both ends #c00 <<\n",
      ":All reads #ccc <<\n",
      "\n"
     ]
    }
   ],
   "source": [
    "csv_data = dict()\n",
    "filename = 'results/ont/bam1_sw_rg_stats.tsv'\n",
    "#filename = 'results/pacbio/SM-HLD5O_sw_rg_stats.tsv'\n",
    "#filename = '/Users/mgatzen/.cromshell/cromwell-v45.dsde-methods.broadinstitute.org/b262b9b5-4260-4c99-88cd-6e7981542852/call-ten_x_tool_task/2.PAE06444.1-A9-D9.consensus.bam_rg_stats.tsv'\n",
    "\n",
    "with open(filename) as csv_file:\n",
    "    reader = csv.DictReader(csv_file, delimiter='\\t')\n",
    "    for line in reader:\n",
    "        csv_data[line['rg']] = line\n",
    "        \n",
    "data = csv_data['all']\n",
    "\n",
    "links_reverse = [\n",
    "    {'source': 'All reads', 'target': 'Adapter found', 'value': data['adapter_found'], 'color': '6e6'},\n",
    "    {'source': 'All reads', 'target': 'Adapter not found', 'value': data['adapter_not_found'], 'color': 'ee6'},\n",
    "    {'source': 'All reads', 'target': 'Adapter in both ends', 'value': data['adapter_in_both_ends'], 'color': 'e66'},\n",
    "    {'source': 'All reads', 'target': 'Reverse adapter', 'value': data['reverse_adapter_alignment'], 'color': 'e66'},\n",
    "    {'source': 'All reads', 'target': 'Multiple adapters in end', 'value': data['multiple_adapters_in_end'], 'color': 'e66'},\n",
    "    {'source': 'Adapter found', 'target': 'TSO found', 'value': int(data['reverse_reverse_adapter_in_forward_found']) + int(data['forward_reverse_adapter_in_reverse_found']), 'color': '6e6'},\n",
    "    {'source': 'Adapter found', 'target': 'TSO not found', 'value': int(data['adapter_found']) - int(data['reverse_reverse_adapter_in_forward_found']) - int(data['forward_reverse_adapter_in_reverse_found']), 'color': '6e6'},\n",
    "    {'source': 'TSO found', 'target': 'Adapter found.', 'value': int(data['reverse_reverse_adapter_in_forward_found']) + int(data['forward_reverse_adapter_in_reverse_found']), 'color': '6e6'},\n",
    "    {'source': 'TSO not found', 'target': 'Adapter found.', 'value': int(data['adapter_found']) - int(data['reverse_reverse_adapter_in_forward_found']) - int(data['forward_reverse_adapter_in_reverse_found']), 'color': '6e6'},\n",
    "    {'source': 'Adapter found.', 'target': '10x & Illumina whitelist', 'value': data['barcode_in_10x_and_illumina_whitelist'], 'color': '6e6'},\n",
    "    {'source': 'Adapter found.', 'target': '10x whitelist', 'value': data['barcode_in_10x_whitelist'], 'color': 'ee6'},\n",
    "    {'source': 'Adapter found.', 'target': 'Illumina whitelist', 'value': data['barcode_in_illumina_whitelist'], 'color': '6e6'},\n",
    "    {'source': 'Adapter found.', 'target': 'No whitelist', 'value': data['barcode_not_in_any_whitelist'], 'color': 'e66'},\n",
    "    {'source': '10x & Illumina whitelist', 'target': 'Adapter found..', 'value': data['barcode_in_10x_and_illumina_whitelist'], 'color': '6e6'},\n",
    "    {'source': '10x whitelist', 'target': 'Adapter found..', 'value': data['barcode_in_10x_whitelist'], 'color': 'ee6'},\n",
    "    {'source': 'Illumina whitelist', 'target': 'Adapter found..', 'value': data['barcode_in_illumina_whitelist'], 'color': 'e66'},\n",
    "    {'source': 'No whitelist', 'target': 'Adapter found..', 'value': data['barcode_not_in_any_whitelist'], 'color': 'e66'},\n",
    "    {'source': 'Adapter found..', 'target': 'Read end too short', 'value': data['sequence_too_short_for_umi'], 'color': 'e66'},\n",
    "    {'source': 'Adapter not found', 'target': 'No TSO found', 'value': int(data['adapter_not_found']) - int(data['forward_reverse_adapter_in_not_found']) - int(data['reverse_reverse_adapter_in_not_found']) - int(data['both_reverse_adapters_in_not_found']), 'color': 'e66'},\n",
    "    {'source': 'Adapter not found', 'target': 'One TSO found', 'value': int(data['forward_reverse_adapter_in_not_found']) + int(data['reverse_reverse_adapter_in_not_found']), 'color': 'e66'},\n",
    "    {'source': 'Adapter not found', 'target': 'Two TSOs found', 'value': data['both_reverse_adapters_in_not_found'], 'color': 'ee6'},\n",
    "    {'source': 'Adapter found..', 'target': 'Corrected barcodes', 'value': int(data['barcode_not_corrected']) + int(data['barcode_corrected']) - int(data['barcode_filtered']), 'color': '6e6'},\n",
    "    {'source': 'Adapter found..', 'target': 'Filtered barcodes', 'value': data['barcode_filtered'], 'color': 'e66'},\n",
    "    {'source': 'Adapter found..', 'target': 'Read end too short', 'value': data['sequence_too_short_for_poly_t'], 'color': 'e66'},\n",
    "]\n",
    "print(\"' \" + filename)\n",
    "for link in links_reverse:\n",
    "    print('{} [{}] {} #{}'.format(link['source'], link['value'], link['target'], link['color']))\n",
    "\n",
    "print('''\n",
    ":Adapter found #0c0 <<\n",
    ":TSO found #0c0 <<\n",
    ":TSO not found #0c0 <<\n",
    ":10x & Illumina whitelist #0c0 <<\n",
    ":10x whitelist #cc0 <<\n",
    ":No whitelist #c00 <<\n",
    ":10x whitelist #cc0 >>\n",
    ":No whitelist #c00 >>\n",
    ":Adapter found. #0c0 <<\n",
    ":Adapter found.. #0c0 <<\n",
    ":Corrected barcodes #0c0 <<\n",
    ":Filtered barcodes #c00 <<\n",
    ":Read end too short #c00 <<\n",
    ":Adapter not found #cc0 <<\n",
    ":Two TSOs found #cc0 <<\n",
    ":One TSO found #c00 <<\n",
    ":No TSO found #c00 <<\n",
    ":Adapter in both ends #c00 <<\n",
    ":All reads #ccc <<\n",
    "''')"
   ]
  },
  {
   "cell_type": "markdown",
   "metadata": {},
   "source": [
    "### Poster"
   ]
  },
  {
   "cell_type": "code",
   "execution_count": 85,
   "metadata": {},
   "outputs": [
    {
     "name": "stdout",
     "output_type": "stream",
     "text": [
      "' results/pacbio/SM-HLD5O_sw_fc1_rg_stats.tsv\n",
      "All reads [2321438] Adapter found #6e6\n",
      "All reads [4975795] Adapter not found #e66\n",
      "Adapter found [2238288] Barcode in whitelist #6e6\n",
      "Adapter found [83150] Barcode not in whitelist #ee6\n",
      "Barcode not in whitelist [36644] Barcode not corrected #e66\n",
      "Barcode in whitelist [2238288] Useable reads #6e6\n",
      "Barcode not in whitelist [46506] Useable reads #6e6\n",
      "Adapter not found [4644753] Two TSOs found #ee6\n",
      "Adapter not found [331042] Adapter not found. #e66\n",
      "\n",
      ":All reads #ccc <<\n",
      ":Adapter found #0c0 <<\n",
      ":Adapter not found #c00 <<\n",
      ":Barcode in whitelist #0c0 <<\n",
      ":Barcode not in whitelist #cc0 <<\n",
      ":Barcode not corrected #c00 <<\n",
      ":Useable reads #0c0 <<\n",
      "\n",
      ":Two TSOs found #cc0 <<\n",
      ":Adapter not found. #c00 <<\n",
      "\n"
     ]
    }
   ],
   "source": [
    "csv_data = dict()\n",
    "#filename = 'results/ont/bam1_sw_rg_stats.tsv'\n",
    "#filename = 'results/pacbio/SM-HLD5O_sw_rg_stats.tsv'\n",
    "filename = 'results/ont/bam1_sw_rg_stats.tsv'\n",
    "filename = 'results/pacbio/SM-HLD5O_sw_fc1_rg_stats.tsv'\n",
    "\n",
    "\n",
    "\n",
    "with open(filename) as csv_file:\n",
    "    reader = csv.DictReader(csv_file, delimiter='\\t')\n",
    "    for line in reader:\n",
    "        csv_data[line['rg']] = line\n",
    "        \n",
    "data = csv_data['all']\n",
    "\n",
    "links_reverse = [\n",
    "    {'source': 'All reads', 'target': 'Adapter found', 'value': data['adapter_found'], 'color': '6e6'},\n",
    "    {'source': 'All reads', 'target': 'Adapter not found', 'value': int(data['adapter_not_found']) + int(data['adapter_in_both_ends']) + int(data['reverse_adapter_alignment']) + int(data['multiple_adapters_in_end']), 'color': 'e66'},\n",
    "    {'source': 'Adapter found', 'target': 'Barcode in whitelist', 'value': int(data['barcode_in_10x_and_illumina_whitelist']) + int(data['barcode_in_10x_whitelist']) + int(data['barcode_in_illumina_whitelist']), 'color': '6e6'},\n",
    "    {'source': 'Adapter found', 'target': 'Barcode not in whitelist', 'value': data['barcode_not_in_any_whitelist'], 'color': 'ee6'},\n",
    "    {'source': 'Barcode not in whitelist', 'target': 'Barcode not corrected', 'value': int(data['barcode_not_in_any_whitelist']) - int(data['corrected_from_no_list_to_10x']), 'color': 'e66'},\n",
    "    {'source': 'Barcode in whitelist', 'target': 'Useable reads', 'value': int(data['barcode_in_10x_and_illumina_whitelist']) + int(data['barcode_in_10x_whitelist']) + int(data['barcode_in_illumina_whitelist']), 'color': '6e6'},\n",
    "    {'source': 'Barcode not in whitelist', 'target': 'Useable reads', 'value': int(data['corrected_from_no_list_to_10x']), 'color': '6e6'},\n",
    "    \n",
    "    {'source': 'Adapter not found', 'target': 'Two TSOs found', 'value': data['both_reverse_adapters_in_not_found'], 'color': 'ee6'},\n",
    "    {'source': 'Adapter not found', 'target': 'Adapter not found.', 'value': int(data['adapter_not_found']) + int(data['adapter_in_both_ends']) + int(data['reverse_adapter_alignment']) + int(data['multiple_adapters_in_end']) - int(data['both_reverse_adapters_in_not_found']), 'color': 'e66'},\n",
    "    \n",
    "#     {'source': 'Barcode in whitelist', 'target': 'UMI & Poly-T found', 'value': data['poly_t_found'], 'color': 'e66'},\n",
    "#     {'source': 'Barcode in whitelist', 'target': 'UMI & Poly-T not found', 'value': data['poly_t_not_found'], 'color': 'e66'},\n",
    "#     {'source': 'Adapter found..', 'target': 'Read end too short', 'value': int(data['sequence_too_short_for_umi'], 'color': 'e66'},\n",
    "#     {'source': 'Adapter not found', 'target': 'No TSO found', 'value': int(data['adapter_not_found']) - int(data['forward_reverse_adapter_in_not_found']) - int(data['reverse_reverse_adapter_in_not_found']) - int(data['both_reverse_adapters_in_not_found']), 'color': 'e66'},\n",
    "#     {'source': 'Adapter not found', 'target': 'One TSO found', 'value': int(data['forward_reverse_adapter_in_not_found']) + int(data['reverse_reverse_adapter_in_not_found']), 'color': 'e66'},\n",
    "#     {'source': 'Adapter found..', 'target': 'Corrected barcodes', 'value': int(data['barcode_not_corrected']) + int(data['barcode_corrected']) - int(data['barcode_filtered']), 'color': '6e6'},\n",
    "#     {'source': 'Adapter found..', 'target': 'Filtered barcodes', 'value': data['barcode_filtered'], 'color': 'e66'},\n",
    "#     {'source': 'Adapter found..', 'target': 'Read end too short', 'value': data['sequence_too_short_for_poly_t'], 'color': 'e66'},\n",
    "]\n",
    "print(\"' \" + filename)\n",
    "for link in links_reverse:\n",
    "    print('{} [{}] {} #{}'.format(link['source'], link['value'], link['target'], link['color']))\n",
    "\n",
    "print('''\n",
    ":All reads #ccc <<\n",
    ":Adapter found #0c0 <<\n",
    ":Adapter not found #c00 <<\n",
    ":Barcode in whitelist #0c0 <<\n",
    ":Barcode not in whitelist #cc0 <<\n",
    ":Barcode not corrected #c00 <<\n",
    ":Useable reads #0c0 <<\n",
    "\n",
    ":Two TSOs found #cc0 <<\n",
    ":Adapter not found. #c00 <<\n",
    "''')\n",
    "\n",
    "#:Two TSOs found #cc0 <<\n",
    "#:One TSO found #c00 <<"
   ]
  },
  {
   "cell_type": "markdown",
   "metadata": {},
   "source": [
    "```\n",
    ":Adapter found #0c0 <<\n",
    ":TSO found #0c0 <<\n",
    ":TSO not found #0c0 <<\n",
    ":10x & Illumina whitelist #0c0 <<\n",
    ":10x whitelist #cc0 <<\n",
    ":No whitelist #c00 <<\n",
    ":10x whitelist #cc0 >>\n",
    ":No whitelist #c00 >>\n",
    ":Adapter found. #0c0 <<\n",
    ":Adapter found.. #0c0 <<\n",
    ":Corrected barcodes #0c0 <<\n",
    ":Filtered barcodes #c00 <<\n",
    ":Read end too short #c00 <<\n",
    ":Adapter not found #cc0 <<\n",
    ":Two TSOs found #cc0 <<\n",
    ":One TSO found #c00 <<\n",
    ":No TSO found #c00 <<\n",
    ":Adapter in both ends #c00 <<\n",
    ":All reads #ccc <<\n",
    "```"
   ]
  },
  {
   "cell_type": "markdown",
   "metadata": {},
   "source": [
    "## Short"
   ]
  },
  {
   "cell_type": "code",
   "execution_count": 53,
   "metadata": {},
   "outputs": [
    {
     "name": "stdout",
     "output_type": "stream",
     "text": [
      "All reads [1953035] Adapter found\n",
      "All reads [81723] Adapter not found\n",
      "Adapter found [1418346] 10x & Illumina whitelist\n",
      "Adapter found [158087] 10x whitelist\n",
      "Adapter found [0] Illumina whitelist\n",
      "Adapter found [376602] No whitelist\n",
      "10x & Illumina whitelist [1418346] Adapter found.\n",
      "10x whitelist [158087] Adapter found.\n",
      "Illumina whitelist [0] Adapter found.\n",
      "No whitelist [376602] Adapter found.\n",
      "Adapter found. [1953035] UMI present\n",
      "Adapter found. [0] Read end too short\n",
      "Adapter not found [25675] No TSO found\n",
      "Adapter not found [51676] One TSO found\n",
      "Adapter not found [2072] Two TSOs found\n",
      "UMI present [1837762] Poly-T found\n",
      "UMI present [115273] Poly-T not found\n",
      "Poly-T found [253529] Barcode filtered\n",
      "Poly-T found [1584233] Barcode written\n"
     ]
    }
   ],
   "source": [
    "csv_data = dict()\n",
    "filename = 'results/ont/bam1_sw_rg_stats.tsv'\n",
    "#filename = 'results/pacbio/SM-HLD5O_sw_rg_stats.tsv'\n",
    "\n",
    "with open(filename) as csv_file:\n",
    "    reader = csv.DictReader(csv_file, delimiter='\\t')\n",
    "    for line in reader:\n",
    "        csv_data[line['rg']] = dict()\n",
    "        csv_data[line['rg']]['rg'] = line['rg']\n",
    "        for key in line.keys():\n",
    "            if key != 'rg':\n",
    "                csv_data[line['rg']][key] = int(line[key])\n",
    "        \n",
    "data = csv_data['all']\n",
    "\n",
    "links_reverse = [\n",
    "    {'source': 'All reads', 'target': 'Adapter found', 'value': data['adapter_found']},\n",
    "    {'source': 'All reads', 'target': 'Adapter not found', 'value': data['adapter_not_found'] + data['adapter_in_both_ends'] + data['reverse_adapter_alignment'] + data['multiple_adapters_in_end']},\n",
    "    {'source': 'Adapter found', 'target': '10x & Illumina whitelist', 'value': data['barcode_in_10x_and_illumina_whitelist']},\n",
    "    {'source': 'Adapter found', 'target': '10x whitelist', 'value': data['barcode_in_10x_whitelist']},\n",
    "    {'source': 'Adapter found', 'target': 'Illumina whitelist', 'value': data['barcode_in_illumina_whitelist']},\n",
    "    {'source': 'Adapter found', 'target': 'No whitelist', 'value': data['barcode_not_in_any_whitelist']},\n",
    "    {'source': '10x & Illumina whitelist', 'target': 'Adapter found.', 'value': data['barcode_in_10x_and_illumina_whitelist']},\n",
    "    {'source': '10x whitelist', 'target': 'Adapter found.', 'value': data['barcode_in_10x_whitelist']},\n",
    "    {'source': 'Illumina whitelist', 'target': 'Adapter found.', 'value': data['barcode_in_illumina_whitelist']},\n",
    "    {'source': 'No whitelist', 'target': 'Adapter found.', 'value': data['barcode_not_in_any_whitelist']},\n",
    "    {'source': 'Adapter found.', 'target': 'UMI present', 'value': data['umi_found']},\n",
    "    {'source': 'Adapter found.', 'target': 'Read end too short', 'value': data['sequence_too_short_for_umi']},\n",
    "    {'source': 'Adapter not found', 'target': 'No TSO found', 'value': int(data['adapter_not_found']) - int(data['forward_reverse_adapter_in_not_found']) - int(data['reverse_reverse_adapter_in_not_found']) - int(data['both_reverse_adapters_in_not_found'])},\n",
    "    {'source': 'Adapter not found', 'target': 'One TSO found', 'value': int(data['forward_reverse_adapter_in_not_found']) + int(data['reverse_reverse_adapter_in_not_found'])},\n",
    "    {'source': 'Adapter not found', 'target': 'Two TSOs found', 'value': data['both_reverse_adapters_in_not_found']},\n",
    "    {'source': 'UMI present', 'target': 'Poly-T found', 'value': data['poly_t_found']},\n",
    "    {'source': 'UMI present', 'target': 'Poly-T not found', 'value': data['poly_t_not_found'] + data['sequence_too_short_for_umi'] + data['sequence_too_short_for_poly_t']},\n",
    "    {'source': 'Poly-T found', 'target': 'Barcode filtered', 'value': data['barcode_filtered']},\n",
    "    {'source': 'Poly-T found', 'target': 'Barcode written', 'value': int(data['barcode_not_corrected']) + int(data['barcode_corrected']) - int(data['barcode_filtered'])},\n",
    "]\n",
    "for link in links_reverse:\n",
    "    print('{} [{}] {}'.format(link['source'], link['value'], link['target']))"
   ]
  },
  {
   "cell_type": "markdown",
   "metadata": {},
   "source": [
    "# Read Group Comparison"
   ]
  },
  {
   "cell_type": "code",
   "execution_count": 9,
   "metadata": {
    "hide_input": false
   },
   "outputs": [],
   "source": [
    "sample_data = dict()\n",
    "#with open('chr_stats.tsv') as csv_file:\n",
    "with open('sample_stats2.tsv') as csv_file:\n",
    "    reader = csv.DictReader(csv_file, delimiter='\\t')\n",
    "    for line in reader:\n",
    "        sample_data[line['contig']] = line"
   ]
  },
  {
   "cell_type": "code",
   "execution_count": 66,
   "metadata": {
    "hide_input": false
   },
   "outputs": [
    {
     "data": {
      "image/png": "[encoded data removed]",
      "text/plain": [
       "<Figure size 576x360 with 1 Axes>"
      ]
     },
     "metadata": {
      "needs_background": "light"
     },
     "output_type": "display_data"
    }
   ],
   "source": [
    "fig, ax = plt.subplots(1, 1, figsize=(8, 5))\n",
    "contigs = list()\n",
    "ratios = list()\n",
    "max_contigs = 29\n",
    "num_contigs = 0\n",
    "for (key, value) in sample_data.items():\n",
    "    contigs.append(key)\n",
    "    ratios.append(int(value['barcode_found']) / int(value['adapter_found']))\n",
    "    num_contigs+=1\n",
    "    if num_contigs >= max_contigs:\n",
    "        break\n",
    "\n",
    "ax.bar(range(len(contigs)), ratios, label=contigs)\n",
    "ax.set_title('Percentage of all information found')\n",
    "ax.set_xticks(range(len(contigs)))\n",
    "ax.set_xticklabels(contigs, rotation=45, ha='right');\n",
    "fig.savefig('comparison_information.png', dpi=200, bbox_inches = 'tight')"
   ]
  },
  {
   "cell_type": "code",
   "execution_count": 67,
   "metadata": {
    "hide_input": false
   },
   "outputs": [
    {
     "data": {
      "text/plain": [
       "[0.8340469638945169,\n",
       " 0.8430998934127573,\n",
       " 0.8414311511562845,\n",
       " 0.8446120648895558,\n",
       " 0.824387640983283,\n",
       " 0.8246841690012741,\n",
       " 0.8240254992178463]"
      ]
     },
     "execution_count": 67,
     "metadata": {},
     "output_type": "execute_result"
    }
   ],
   "source": [
    "ratios"
   ]
  },
  {
   "cell_type": "code",
   "execution_count": 64,
   "metadata": {
    "hide_input": false
   },
   "outputs": [
    {
     "data": {
      "text/plain": [
       "['all',\n",
       " 'sample1',\n",
       " '300fa607.corrected',\n",
       " '13844d08.corrected',\n",
       " 'sample2',\n",
       " 'c3a6e150.corrected',\n",
       " 'eb34e903.corrected']"
      ]
     },
     "execution_count": 64,
     "metadata": {},
     "output_type": "execute_result"
    },
    {
     "data": {
      "image/png": "[encoded data removed]",
      "text/plain": [
       "<Figure size 576x360 with 1 Axes>"
      ]
     },
     "metadata": {
      "needs_background": "light"
     },
     "output_type": "display_data"
    }
   ],
   "source": [
    "fig, ax = plt.subplots(1, 1, figsize=(8, 5))\n",
    "contigs = list()\n",
    "ratios = list()\n",
    "max_contigs = 29\n",
    "num_contigs = 0\n",
    "for (key, value) in sample_data.items():\n",
    "    contigs.append(key)\n",
    "    ratios.append(int(value['adapter_found']) / int(value['reads_seen']))\n",
    "    num_contigs+=1\n",
    "    if num_contigs >= max_contigs:\n",
    "        break\n",
    "\n",
    "ax.bar(range(len(contigs)), ratios, label=contigs)\n",
    "ax.set_title('Percentage of two reverse barcodes')\n",
    "ax.set_xticks(range(len(contigs)))\n",
    "ax.set_xticklabels(contigs, rotation=45, ha='right');\n",
    "fig.savefig('comparison_reverse_barcodes.png', dpi=200, bbox_inches = 'tight')\n",
    "contigs"
   ]
  },
  {
   "cell_type": "code",
   "execution_count": 68,
   "metadata": {},
   "outputs": [
    {
     "data": {
      "text/plain": [
       "{'all': OrderedDict([('contig', 'all'),\n",
       "              ('reads_seen', '27808961'),\n",
       "              ('adapter_found', '8200555'),\n",
       "              ('adapter_not_found', '19502774'),\n",
       "              ('adapter_in_both_ends', '99658'),\n",
       "              ('multiple_adapters_in_end', '814'),\n",
       "              ('reverse_adapter_alignment', '5160'),\n",
       "              ('barcode_found', '6839648'),\n",
       "              ('barcode_not_found', '1360907'),\n",
       "              ('umi_found', '6838332'),\n",
       "              ('umi_not_found', '0'),\n",
       "              ('poly_t_found', '6791123'),\n",
       "              ('poly_t_not_found', '34497'),\n",
       "              ('sequence_too_short_for_umi', '1316'),\n",
       "              ('sequence_too_short_for_poly_t', '12712'),\n",
       "              ('forward_reverse_adapter_in_not_found', '1163617'),\n",
       "              ('reverse_reverse_adapter_in_not_found', '1066113'),\n",
       "              ('both_reverse_adapters_in_not_found', '17025089'),\n",
       "              ('forward_reverse_adapter_in_forward_found', '240'),\n",
       "              ('reverse_reverse_adapter_in_forward_found', '3530965'),\n",
       "              ('both_reverse_adapters_in_forward_found', '3876'),\n",
       "              ('forward_reverse_adapter_in_reverse_found', '4274058'),\n",
       "              ('reverse_reverse_adapter_in_reverse_found', '271'),\n",
       "              ('both_reverse_adapters_in_reverse_found', '3909')]),\n",
       " 'sample1': OrderedDict([('contig', 'sample1'),\n",
       "              ('reads_seen', '13972979'),\n",
       "              ('adapter_found', '4233152'),\n",
       "              ('adapter_not_found', '9678597'),\n",
       "              ('adapter_in_both_ends', '58267'),\n",
       "              ('multiple_adapters_in_end', '422'),\n",
       "              ('reverse_adapter_alignment', '2541'),\n",
       "              ('barcode_found', '3568970'),\n",
       "              ('barcode_not_found', '664182'),\n",
       "              ('umi_found', '3568301'),\n",
       "              ('umi_not_found', '0'),\n",
       "              ('poly_t_found', '3541508'),\n",
       "              ('poly_t_not_found', '19853'),\n",
       "              ('sequence_too_short_for_umi', '669'),\n",
       "              ('sequence_too_short_for_poly_t', '6940'),\n",
       "              ('forward_reverse_adapter_in_not_found', '576343'),\n",
       "              ('reverse_reverse_adapter_in_not_found', '531558'),\n",
       "              ('both_reverse_adapters_in_not_found', '8438424'),\n",
       "              ('forward_reverse_adapter_in_forward_found', '120'),\n",
       "              ('reverse_reverse_adapter_in_forward_found', '1838690'),\n",
       "              ('both_reverse_adapters_in_forward_found', '1999'),\n",
       "              ('forward_reverse_adapter_in_reverse_found', '2191095'),\n",
       "              ('reverse_reverse_adapter_in_reverse_found', '113'),\n",
       "              ('both_reverse_adapters_in_reverse_found', '1849')]),\n",
       " '300fa607.corrected': OrderedDict([('contig', '300fa607.corrected'),\n",
       "              ('reads_seen', '6675746'),\n",
       "              ('adapter_found', '2012394'),\n",
       "              ('adapter_not_found', '4634058'),\n",
       "              ('adapter_in_both_ends', '27880'),\n",
       "              ('multiple_adapters_in_end', '221'),\n",
       "              ('reverse_adapter_alignment', '1193'),\n",
       "              ('barcode_found', '1693291'),\n",
       "              ('barcode_not_found', '319103'),\n",
       "              ('umi_found', '1692999'),\n",
       "              ('umi_not_found', '0'),\n",
       "              ('poly_t_found', '1680539'),\n",
       "              ('poly_t_not_found', '9399'),\n",
       "              ('sequence_too_short_for_umi', '292'),\n",
       "              ('sequence_too_short_for_poly_t', '3061'),\n",
       "              ('forward_reverse_adapter_in_not_found', '280247'),\n",
       "              ('reverse_reverse_adapter_in_not_found', '259110'),\n",
       "              ('both_reverse_adapters_in_not_found', '4029161'),\n",
       "              ('forward_reverse_adapter_in_forward_found', '66'),\n",
       "              ('reverse_reverse_adapter_in_forward_found', '872500'),\n",
       "              ('both_reverse_adapters_in_forward_found', '923'),\n",
       "              ('forward_reverse_adapter_in_reverse_found', '1041159'),\n",
       "              ('reverse_reverse_adapter_in_reverse_found', '52'),\n",
       "              ('both_reverse_adapters_in_reverse_found', '859')]),\n",
       " '13844d08.corrected': OrderedDict([('contig', '13844d08.corrected'),\n",
       "              ('reads_seen', '7297233'),\n",
       "              ('adapter_found', '2220758'),\n",
       "              ('adapter_not_found', '5044539'),\n",
       "              ('adapter_in_both_ends', '30387'),\n",
       "              ('multiple_adapters_in_end', '201'),\n",
       "              ('reverse_adapter_alignment', '1348'),\n",
       "              ('barcode_found', '1875679'),\n",
       "              ('barcode_not_found', '345079'),\n",
       "              ('umi_found', '1875302'),\n",
       "              ('umi_not_found', '0'),\n",
       "              ('poly_t_found', '1860969'),\n",
       "              ('poly_t_not_found', '10454'),\n",
       "              ('sequence_too_short_for_umi', '377'),\n",
       "              ('sequence_too_short_for_poly_t', '3879'),\n",
       "              ('forward_reverse_adapter_in_not_found', '296096'),\n",
       "              ('reverse_reverse_adapter_in_not_found', '272448'),\n",
       "              ('both_reverse_adapters_in_not_found', '4409263'),\n",
       "              ('forward_reverse_adapter_in_forward_found', '54'),\n",
       "              ('reverse_reverse_adapter_in_forward_found', '966190'),\n",
       "              ('both_reverse_adapters_in_forward_found', '1076'),\n",
       "              ('forward_reverse_adapter_in_reverse_found', '1149936'),\n",
       "              ('reverse_reverse_adapter_in_reverse_found', '61'),\n",
       "              ('both_reverse_adapters_in_reverse_found', '990')]),\n",
       " 'sample2': OrderedDict([('contig', 'sample2'),\n",
       "              ('reads_seen', '13835982'),\n",
       "              ('adapter_found', '3967403'),\n",
       "              ('adapter_not_found', '9824177'),\n",
       "              ('adapter_in_both_ends', '41391'),\n",
       "              ('multiple_adapters_in_end', '392'),\n",
       "              ('reverse_adapter_alignment', '2619'),\n",
       "              ('barcode_found', '3270678'),\n",
       "              ('barcode_not_found', '696725'),\n",
       "              ('umi_found', '3270031'),\n",
       "              ('umi_not_found', '0'),\n",
       "              ('poly_t_found', '3249615'),\n",
       "              ('poly_t_not_found', '14644'),\n",
       "              ('sequence_too_short_for_umi', '647'),\n",
       "              ('sequence_too_short_for_poly_t', '5772'),\n",
       "              ('forward_reverse_adapter_in_not_found', '587274'),\n",
       "              ('reverse_reverse_adapter_in_not_found', '534555'),\n",
       "              ('both_reverse_adapters_in_not_found', '8586665'),\n",
       "              ('forward_reverse_adapter_in_forward_found', '120'),\n",
       "              ('reverse_reverse_adapter_in_forward_found', '1692275'),\n",
       "              ('both_reverse_adapters_in_forward_found', '1877'),\n",
       "              ('forward_reverse_adapter_in_reverse_found', '2082963'),\n",
       "              ('reverse_reverse_adapter_in_reverse_found', '158'),\n",
       "              ('both_reverse_adapters_in_reverse_found', '2060')]),\n",
       " 'c3a6e150.corrected': OrderedDict([('contig', 'c3a6e150.corrected'),\n",
       "              ('reads_seen', '7417269'),\n",
       "              ('adapter_found', '2181309'),\n",
       "              ('adapter_not_found', '5211862'),\n",
       "              ('adapter_in_both_ends', '22476'),\n",
       "              ('multiple_adapters_in_end', '207'),\n",
       "              ('reverse_adapter_alignment', '1415'),\n",
       "              ('barcode_found', '1798891'),\n",
       "              ('barcode_not_found', '382418'),\n",
       "              ('umi_found', '1798549'),\n",
       "              ('umi_not_found', '0'),\n",
       "              ('poly_t_found', '1787164'),\n",
       "              ('poly_t_not_found', '8090'),\n",
       "              ('sequence_too_short_for_umi', '342'),\n",
       "              ('sequence_too_short_for_poly_t', '3295'),\n",
       "              ('forward_reverse_adapter_in_not_found', '296290'),\n",
       "              ('reverse_reverse_adapter_in_not_found', '272554'),\n",
       "              ('both_reverse_adapters_in_not_found', '4589665'),\n",
       "              ('forward_reverse_adapter_in_forward_found', '57'),\n",
       "              ('reverse_reverse_adapter_in_forward_found', '932179'),\n",
       "              ('both_reverse_adapters_in_forward_found', '1016'),\n",
       "              ('forward_reverse_adapter_in_reverse_found', '1149106'),\n",
       "              ('reverse_reverse_adapter_in_reverse_found', '73'),\n",
       "              ('both_reverse_adapters_in_reverse_found', '1120')]),\n",
       " 'eb34e903.corrected': OrderedDict([('contig', 'eb34e903.corrected'),\n",
       "              ('reads_seen', '6418713'),\n",
       "              ('adapter_found', '1786094'),\n",
       "              ('adapter_not_found', '4612315'),\n",
       "              ('adapter_in_both_ends', '18915'),\n",
       "              ('multiple_adapters_in_end', '185'),\n",
       "              ('reverse_adapter_alignment', '1204'),\n",
       "              ('barcode_found', '1471787'),\n",
       "              ('barcode_not_found', '314307'),\n",
       "              ('umi_found', '1471482'),\n",
       "              ('umi_not_found', '0'),\n",
       "              ('poly_t_found', '1462451'),\n",
       "              ('poly_t_not_found', '6554'),\n",
       "              ('sequence_too_short_for_umi', '305'),\n",
       "              ('sequence_too_short_for_poly_t', '2477'),\n",
       "              ('forward_reverse_adapter_in_not_found', '290984'),\n",
       "              ('reverse_reverse_adapter_in_not_found', '262001'),\n",
       "              ('both_reverse_adapters_in_not_found', '3997000'),\n",
       "              ('forward_reverse_adapter_in_forward_found', '63'),\n",
       "              ('reverse_reverse_adapter_in_forward_found', '760096'),\n",
       "              ('both_reverse_adapters_in_forward_found', '861'),\n",
       "              ('forward_reverse_adapter_in_reverse_found', '933857'),\n",
       "              ('reverse_reverse_adapter_in_reverse_found', '85'),\n",
       "              ('both_reverse_adapters_in_reverse_found', '940')])}"
      ]
     },
     "execution_count": 68,
     "metadata": {},
     "output_type": "execute_result"
    }
   ],
   "source": [
    "sample_data"
   ]
  },
  {
   "cell_type": "code",
   "execution_count": null,
   "metadata": {},
   "outputs": [],
   "source": []
  },
  {
   "cell_type": "code",
   "execution_count": null,
   "metadata": {},
   "outputs": [],
   "source": [
    "fig, ax = plt.subplots(1, 1, figsize=(8, 5))\n",
    "contigs = list()\n",
    "ratios = list()\n",
    "max_contigs = 29\n",
    "num_contigs = 0\n",
    "for (key, value) in sample_data.items():\n",
    "    contigs.append(key)\n",
    "    ratios.append(int(value['both_reverse_adapters_in_not_found']) / int(value['reads_seen']))\n",
    "    num_contigs+=1\n",
    "    if num_contigs >= max_contigs:\n",
    "        break\n",
    "\n",
    "ax.bar(range(len(contigs)), ratios, label=contigs)\n",
    "ax.set_title('Percentage of all information found')\n",
    "ax.set_xticks(range(len(contigs)))\n",
    "ax.set_xticklabels(contigs, rotation=45, ha='right');"
   ]
  },
  {
   "cell_type": "code",
   "execution_count": 122,
   "metadata": {},
   "outputs": [
    {
     "data": {
      "text/plain": [
       "0.25180466722370803"
      ]
     },
     "execution_count": 122,
     "metadata": {},
     "output_type": "execute_result"
    }
   ],
   "source": [
    "int(csv_data['300fa607.corrected']['poly_t_found']) / int(csv_data['300fa607.corrected']['reads_seen'])"
   ]
  },
  {
   "cell_type": "code",
   "execution_count": 123,
   "metadata": {},
   "outputs": [
    {
     "data": {
      "text/plain": [
       "0.25510094031532227"
      ]
     },
     "execution_count": 123,
     "metadata": {},
     "output_type": "execute_result"
    }
   ],
   "source": [
    "int(csv_data['13844d08.corrected']['poly_t_found']) / int(csv_data['13844d08.corrected']['reads_seen'])"
   ]
  },
  {
   "cell_type": "markdown",
   "metadata": {},
   "source": [
    "# Barcode Histogram"
   ]
  },
  {
   "cell_type": "code",
   "execution_count": 54,
   "metadata": {
    "hide_input": false
   },
   "outputs": [],
   "source": [
    "barcode_histogram_data = []\n",
    "filename = 'barcode_stats.tsv'\n",
    "#filename = '/Users/mgatzen/data/longreads/lrma/tools/10x_tool/results/SM-HLD5O/remaining/rg_stats.tsv'\n",
    "#with open('chr_stats.tsv') as csv_file:\n",
    "with open(filename) as csv_file:\n",
    "    reader = csv.DictReader(csv_file, delimiter='\\t')\n",
    "    for line in reader:\n",
    "        barcode_histogram_data.append(int(line['occurrence']))"
   ]
  },
  {
   "cell_type": "code",
   "execution_count": 55,
   "metadata": {},
   "outputs": [],
   "source": [
    "num_possible_barcodes = 0\n",
    "with open('/Users/mgatzen/files/bam/10x_tool/barcodes.1.tsv') as barcodes_file:\n",
    "    for line in barcodes_file:\n",
    "        if line:\n",
    "            num_possible_barcodes += 1"
   ]
  },
  {
   "cell_type": "code",
   "execution_count": 58,
   "metadata": {},
   "outputs": [
    {
     "data": {
      "image/png": "[encoded data removed]",
      "text/plain": [
       "<Figure size 360x216 with 1 Axes>"
      ]
     },
     "metadata": {
      "needs_background": "light"
     },
     "output_type": "display_data"
    }
   ],
   "source": [
    "fig, ax = plt.subplots(1, 1, figsize=(5,3))\n",
    "\n",
    "barcode_histogram_data = sorted(barcode_histogram_data, reverse = True)\n",
    "\n",
    "ax.plot(barcode_histogram_data)\n",
    "ax.set_title('Histogram of barcodes found')\n",
    "ax.set_ylim(0, 5000)\n",
    "ax.set_ylabel('Occurrence')\n",
    "fig.savefig('barcode_histogram.png', dpi=300, bbox_inches = 'tight')"
   ]
  },
  {
   "cell_type": "code",
   "execution_count": 48,
   "metadata": {},
   "outputs": [
    {
     "name": "stdout",
     "output_type": "stream",
     "text": [
      "Unique barcodes in provided list:  7626\n",
      "Unique barcodes found in data:     7626\n",
      "Percentage of unique barcodes hit: 100.00%\n",
      "Max unique barcode occurrence:     4872\n",
      "Min unique barcode occurrence:     21\n"
     ]
    }
   ],
   "source": [
    "print('Unique barcodes in provided list:  {}'.format(num_possible_barcodes))\n",
    "print('Unique barcodes found in data:     {}'.format(len(barcode_histogram_data)))\n",
    "print('Percentage of unique barcodes hit: {:.2f}%'.format(len(barcode_histogram_data) / num_possible_barcodes * 100))\n",
    "print('Max unique barcode occurrence:     {}'.format(barcode_histogram_data[0]))\n",
    "print('Min unique barcode occurrence:     {}'.format(barcode_histogram_data[-1]))\n"
   ]
  },
  {
   "cell_type": "markdown",
   "metadata": {},
   "source": [
    "![sankey](results/pacbio/sankey.png \"sankey\")"
   ]
  },
  {
   "cell_type": "markdown",
   "metadata": {},
   "source": [
    "## Using complete barcode list\n",
    "### Increase of detected barcodes from 83% to 97%"
   ]
  },
  {
   "cell_type": "markdown",
   "metadata": {},
   "source": [
    "![sankey_allbarcodes](results/pacbio/sankey_allbarcodes.png \"sankey_allbarcodes\")"
   ]
  },
  {
   "cell_type": "code",
   "execution_count": 120,
   "metadata": {
    "hide_input": false
   },
   "outputs": [],
   "source": [
    "barcode_histogram = dict()\n",
    "barcode_umi_histogram = dict()\n",
    "barcode_unique_umis = dict()\n",
    "filename = 'results/ont/barcode_stats_1.consensus.bam.tsv'\n",
    "#filename = '/Users/mgatzen/data/longreads/lrma/tools/10x_tool/results/SM-HLD5O/remaining/rg_stats.tsv'\n",
    "#with open('chr_stats.tsv') as csv_file:\n",
    "with open(filename) as csv_file:\n",
    "    reader = csv.DictReader(csv_file, delimiter='\\t')\n",
    "    for line in reader:\n",
    "        barcode = line['barcode']\n",
    "        umi = line['umi']\n",
    "        occurrence = int(line['occurrence'])\n",
    "        if barcode not in barcode_histogram:\n",
    "            barcode_histogram[barcode] = 0\n",
    "        barcode_histogram[barcode] += occurrence\n",
    "        if (barcode, umi) not in barcode_umi_histogram:\n",
    "            barcode_umi_histogram[(barcode, umi)] = 0\n",
    "            if barcode not in barcode_unique_umis:\n",
    "                barcode_unique_umis[barcode] = 0\n",
    "            barcode_unique_umis[barcode] += 1\n",
    "        barcode_umi_histogram[(barcode, umi)] += occurrence\n",
    "        "
   ]
  },
  {
   "cell_type": "code",
   "execution_count": 91,
   "metadata": {
    "hide_input": false
   },
   "outputs": [],
   "source": [
    "num_possible_barcodes = 0\n",
    "with open('/Users/mgatzen/files/bam/10x_tool/barcodes/3M-february-2018.txt') as barcodes_file:\n",
    "    for line in barcodes_file:\n",
    "        if line:\n",
    "            num_possible_barcodes += 1"
   ]
  },
  {
   "cell_type": "markdown",
   "metadata": {},
   "source": [
    "### Barcodes"
   ]
  },
  {
   "cell_type": "code",
   "execution_count": 92,
   "metadata": {
    "hide_input": true
   },
   "outputs": [
    {
     "data": {
      "image/png": "[encoded data removed]",
      "text/plain": [
       "<Figure size 576x360 with 1 Axes>"
      ]
     },
     "metadata": {
      "needs_background": "light"
     },
     "output_type": "display_data"
    }
   ],
   "source": [
    "fig, ax = plt.subplots(1, 1, figsize=(8, 5))\n",
    "\n",
    "barcode_histogram_data = sorted(barcode_histogram.values(), reverse = True)\n",
    "\n",
    "ax.plot(barcode_histogram_data)\n",
    "ax.set_title('Histogram of barcodes found')\n",
    "ax.set_yscale('log')\n",
    "#ax.set_ylim(0, 3500)\n",
    "ax.set_ylabel('Occurrence')\n",
    "fig.savefig('barcode_histogram_bam1_allbarcodes.png', dpi=200, bbox_inches = 'tight')"
   ]
  },
  {
   "cell_type": "code",
   "execution_count": 93,
   "metadata": {
    "hide_input": true
   },
   "outputs": [
    {
     "name": "stdout",
     "output_type": "stream",
     "text": [
      "Unique barcodes in provided list:  6794880\n",
      "Unique barcodes found in data:     54575\n",
      "Percentage of unique barcodes hit: 0.80%\n",
      "Max unique barcode occurrence:     1355\n",
      "Min unique barcode occurrence:     1\n"
     ]
    }
   ],
   "source": [
    "print('Unique barcodes in provided list:  {}'.format(num_possible_barcodes))\n",
    "print('Unique barcodes found in data:     {}'.format(len(barcode_histogram_data)))\n",
    "print('Percentage of unique barcodes hit: {:.2f}%'.format(len(barcode_histogram_data) / num_possible_barcodes * 100))\n",
    "print('Max unique barcode occurrence:     {}'.format(barcode_histogram_data[0]))\n",
    "print('Min unique barcode occurrence:     {}'.format(barcode_histogram_data[-1]))"
   ]
  },
  {
   "cell_type": "markdown",
   "metadata": {},
   "source": [
    "## Barcodes & UMI"
   ]
  },
  {
   "cell_type": "code",
   "execution_count": 94,
   "metadata": {
    "hide_input": false
   },
   "outputs": [
    {
     "data": {
      "image/png": "[encoded data removed]",
      "text/plain": [
       "<Figure size 576x360 with 1 Axes>"
      ]
     },
     "metadata": {
      "needs_background": "light"
     },
     "output_type": "display_data"
    }
   ],
   "source": [
    "fig, ax = plt.subplots(1, 1, figsize=(8, 5))\n",
    "\n",
    "barcode_umi_histogram_data = sorted(barcode_umi_histogram.values(), reverse = True)\n",
    "\n",
    "ax.plot(barcode_umi_histogram_data)\n",
    "ax.set_title('Histogram of barcodes & UMIs found')\n",
    "#ax.set_ylim(0, 3500)\n",
    "ax.set_ylabel('Occurrence')\n",
    "fig.savefig('barcode_umi_histogram_bam1_allbarcodes.png', dpi=200, bbox_inches = 'tight')"
   ]
  },
  {
   "cell_type": "code",
   "execution_count": 103,
   "metadata": {
    "hide_input": false
   },
   "outputs": [
    {
     "name": "stdout",
     "output_type": "stream",
     "text": [
      "Unique barcodes & UMIs found in data: 850,794\n",
      "Max unique barcode occurrence:        32\n",
      "Min unique barcode occurrence:        1\n"
     ]
    }
   ],
   "source": [
    "print('Unique barcodes & UMIs found in data: {:,}'.format(len(barcode_umi_histogram_data)))\n",
    "print('Max unique barcode occurrence:        {}'.format(barcode_umi_histogram_data[0]))\n",
    "print('Min unique barcode occurrence:        {}'.format(barcode_umi_histogram_data[-1]))"
   ]
  },
  {
   "cell_type": "code",
   "execution_count": 121,
   "metadata": {},
   "outputs": [
    {
     "data": {
      "image/png": "[encoded data removed]",
      "text/plain": [
       "<Figure size 576x360 with 1 Axes>"
      ]
     },
     "metadata": {
      "needs_background": "light"
     },
     "output_type": "display_data"
    }
   ],
   "source": [
    "fig, ax = plt.subplots(1, 1, figsize=(8, 5))\n",
    "\n",
    "barcode_unique_umis_histogram_data = sorted(barcode_unique_umis.values(), reverse = True)\n",
    "\n",
    "ax.plot(barcode_unique_umis_histogram_data)\n",
    "ax.set_title('Histogram of barcodes & UMIs found')\n",
    "#ax.set_ylim(0, 3500)\n",
    "ax.set_ylabel('Occurrence')\n",
    "fig.savefig('barcode_umi_histogram_bam1_allbarcodes.png', dpi=200, bbox_inches = 'tight')"
   ]
  },
  {
   "cell_type": "code",
   "execution_count": 124,
   "metadata": {},
   "outputs": [
    {
     "data": {
      "image/png": "[encoded data removed]",
      "text/plain": [
       "<Figure size 576x360 with 1 Axes>"
      ]
     },
     "metadata": {
      "needs_background": "light"
     },
     "output_type": "display_data"
    }
   ],
   "source": [
    "fig, ax = plt.subplots(1, 1, figsize=(8, 5))\n",
    "\n",
    "barcode_unique_umis_histogram_data = sorted(barcode_unique_umis.values(), reverse = True)\n",
    "\n",
    "ax.boxplot(barcode_unique_umis_histogram_data[:10000])\n",
    "ax.set_title('Histogram of barcodes & UMIs found')\n",
    "#ax.set_ylim(0, 3500)\n",
    "ax.set_ylabel('Occurrence')\n",
    "fig.savefig('barcode_umi_histogram_bam1_allbarcodes.png', dpi=200, bbox_inches = 'tight')"
   ]
  },
  {
   "cell_type": "markdown",
   "metadata": {},
   "source": [
    "# Sankeys"
   ]
  },
  {
   "cell_type": "code",
   "execution_count": 107,
   "metadata": {},
   "outputs": [],
   "source": [
    "def sankey(margin_top=10, **value):\n",
    "    \"\"\"Show SankeyWidget with default values for size and margins\"\"\"\n",
    "    return SankeyWidget(layout=Layout(width=\"1000\", height=\"600\"),\n",
    "                        margins=dict(top=margin_top, bottom=0, left=100, right=200),\n",
    "                        **value)\n"
   ]
  },
  {
   "cell_type": "code",
   "execution_count": 72,
   "metadata": {},
   "outputs": [
    {
     "data": {
      "application/vnd.jupyter.widget-view+json": {
       "model_id": "9bced71b7daa41bdaf94a1cb3e99e088",
       "version_major": 2,
       "version_minor": 0
      },
      "text/plain": [
       "SankeyWidget(layout=Layout(height='600', width='1000'), linkLabelFormat='.2f', linkLabelMinWidth=0.0, links=[{…"
      ]
     },
     "metadata": {},
     "output_type": "display_data"
    }
   ],
   "source": [
    "\n",
    "s = sankey(links=links_percentage, rank_sets=rank_sets, order=order, linkLabelFormat='.2f', linkLabelMinWidth=0)\n",
    "s"
   ]
  },
  {
   "cell_type": "code",
   "execution_count": 71,
   "metadata": {
    "scrolled": true
   },
   "outputs": [
    {
     "data": {
      "application/vnd.jupyter.widget-view+json": {
       "model_id": "eccaec8f2a8245128c11ef259dd67de9",
       "version_major": 2,
       "version_minor": 0
      },
      "text/plain": [
       "SankeyWidget(layout=Layout(height='600', width='1000'), linkLabelFormat=',d', linkLabelMinWidth=0.0, links=[{'…"
      ]
     },
     "metadata": {},
     "output_type": "display_data"
    }
   ],
   "source": [
    "\n",
    "s = sankey(links=links, rank_sets=rank_sets, order=order, linkLabelFormat=',d', linkLabelMinWidth=0)\n",
    "s"
   ]
  },
  {
   "cell_type": "code",
   "execution_count": 114,
   "metadata": {},
   "outputs": [
    {
     "data": {
      "application/vnd.jupyter.widget-view+json": {
       "model_id": "99090764011e469c99759822a0d4cfa0",
       "version_major": 2,
       "version_minor": 0
      },
      "text/plain": [
       "SankeyWidget(layout=Layout(height='600', width='1000'), linkLabelFormat=',d', linkLabelMinWidth=0.0, links=[{'…"
      ]
     },
     "metadata": {},
     "output_type": "display_data"
    }
   ],
   "source": [
    "\n",
    "s = sankey(links=links_reverse, order=order_reverse, rank_sets=rank_sets_reverse, linkLabelFormat=',d', linkLabelMinWidth=0)\n",
    "s"
   ]
  }
 ],
 "metadata": {
  "kernelspec": {
   "display_name": "Python 3",
   "language": "python",
   "name": "python3"
  },
  "language_info": {
   "codemirror_mode": {
    "name": "ipython",
    "version": 3
   },
   "file_extension": ".py",
   "mimetype": "text/x-python",
   "name": "python",
   "nbconvert_exporter": "python",
   "pygments_lexer": "ipython3",
   "version": "3.7.3"
  }
 },
 "nbformat": 4,
 "nbformat_minor": 2
}
